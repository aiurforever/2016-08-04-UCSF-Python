{
 "cells": [
  {
   "cell_type": "code",
   "execution_count": 1,
   "metadata": {
    "collapsed": false
   },
   "outputs": [
    {
     "name": "stdout",
     "output_type": "stream",
     "text": [
      "Populating the interactive namespace from numpy and matplotlib\n"
     ]
    }
   ],
   "source": [
    "import pandas\n",
    "%pylab inline"
   ]
  },
  {
   "cell_type": "code",
   "execution_count": 3,
   "metadata": {
    "collapsed": false
   },
   "outputs": [
    {
     "name": "stdout",
     "output_type": "stream",
     "text": [
      "data/gapminder_all.csv\r\n"
     ]
    }
   ],
   "source": [
    "ls data/gapminder_all.csv"
   ]
  },
  {
   "cell_type": "code",
   "execution_count": 21,
   "metadata": {
    "collapsed": false
   },
   "outputs": [
    {
     "name": "stdout",
     "output_type": "stream",
     "text": [
      "Index(['continent', 'country', 'gdpPercap_1952', 'gdpPercap_1957',\n",
      "       'gdpPercap_1962', 'gdpPercap_1967', 'gdpPercap_1972', 'gdpPercap_1977',\n",
      "       'gdpPercap_1982', 'gdpPercap_1987', 'gdpPercap_1992', 'gdpPercap_1997',\n",
      "       'gdpPercap_2002', 'gdpPercap_2007', 'lifeExp_1952', 'lifeExp_1957',\n",
      "       'lifeExp_1962', 'lifeExp_1967', 'lifeExp_1972', 'lifeExp_1977',\n",
      "       'lifeExp_1982', 'lifeExp_1987', 'lifeExp_1992', 'lifeExp_1997',\n",
      "       'lifeExp_2002', 'lifeExp_2007', 'pop_1952', 'pop_1957', 'pop_1962',\n",
      "       'pop_1967', 'pop_1972', 'pop_1977', 'pop_1982', 'pop_1987', 'pop_1992',\n",
      "       'pop_1997', 'pop_2002', 'pop_2007'],\n",
      "      dtype='object')\n"
     ]
    }
   ],
   "source": [
    "df = pandas.read_csv('data/gapminder_all.csv')\n",
    "print(df.columns)"
   ]
  },
  {
   "cell_type": "code",
   "execution_count": 28,
   "metadata": {
    "collapsed": false
   },
   "outputs": [
    {
     "name": "stdout",
     "output_type": "stream",
     "text": [
      "['Africa' 'Americas' 'Asia' 'Europe' 'Oceania']\n"
     ]
    },
    {
     "data": {
      "text/plain": [
       "<matplotlib.axes._subplots.AxesSubplot at 0x11a1d5a58>"
      ]
     },
     "execution_count": 28,
     "metadata": {},
     "output_type": "execute_result"
    },
    {
     "data": {
      "image/png": "[encoded data removed]",
      "text/plain": [
       "<matplotlib.figure.Figure at 0x11adb4d68>"
      ]
     },
     "metadata": {},
     "output_type": "display_data"
    }
   ],
   "source": [
    "needed_cols = ['continent', 'country']\n",
    "needed_cols += [col for col in df.columns if 'pop' in col]\n",
    "print(df['continent'].unique())\n",
    "plot_df = df[df['continent'] == 'Europe']\n",
    "plot_df = plot_df\n",
    "plot_df.plot(x='country', y=['pop_1952','pop_1982', 'pop_2002'], kind='bar')"
   ]
  },
  {
   "cell_type": "code",
   "execution_count": 37,
   "metadata": {
    "collapsed": false
   },
   "outputs": [
    {
     "name": "stdout",
     "output_type": "stream",
     "text": [
      "country\n",
      "Iceland        288030\n",
      "Montenegro     720230\n",
      "Slovenia      2011497\n",
      "Albania       3508512\n",
      "Ireland       3879155\n",
      "Name: pop_2002, dtype: int64\n"
     ]
    }
   ],
   "source": [
    "new_df = plot_df.set_index('country')\n",
    "print(new_df['pop_2002'].sort_values().head())"
   ]
  },
  {
   "cell_type": "code",
   "execution_count": 38,
   "metadata": {
    "collapsed": false
   },
   "outputs": [
    {
     "data": {
      "text/plain": [
       "Index(['Albania', 'Austria', 'Belgium', 'Bosnia and Herzegovina', 'Bulgaria',\n",
       "       'Croatia', 'Czech Republic', 'Denmark', 'Finland', 'France', 'Germany',\n",
       "       'Greece', 'Hungary', 'Iceland', 'Ireland', 'Italy', 'Montenegro',\n",
       "       'Netherlands', 'Norway', 'Poland', 'Portugal', 'Romania', 'Serbia',\n",
       "       'Slovak Republic', 'Slovenia', 'Spain', 'Sweden', 'Switzerland',\n",
       "       'Turkey', 'United Kingdom'],\n",
       "      dtype='object', name='country')"
      ]
     },
     "execution_count": 38,
     "metadata": {},
     "output_type": "execute_result"
    }
   ],
   "source": [
    "new_df.index"
   ]
  },
  {
   "cell_type": "code",
   "execution_count": 39,
   "metadata": {
    "collapsed": false
   },
   "outputs": [
    {
     "data": {
      "text/plain": [
       "3508512"
      ]
     },
     "execution_count": 39,
     "metadata": {},
     "output_type": "execute_result"
    }
   ],
   "source": [
    "new_df.ix[\"Albania\", 'pop_2002']"
   ]
  },
  {
   "cell_type": "code",
   "execution_count": 40,
   "metadata": {
    "collapsed": false
   },
   "outputs": [
    {
     "data": {
      "text/plain": [
       "continent              Europe\n",
       "gdpPercap_1952        1601.06\n",
       "gdpPercap_1957        1942.28\n",
       "gdpPercap_1962        2312.89\n",
       "gdpPercap_1967         2760.2\n",
       "gdpPercap_1972        3313.42\n",
       "gdpPercap_1977           3533\n",
       "gdpPercap_1982        3630.88\n",
       "gdpPercap_1987        3738.93\n",
       "gdpPercap_1992        2497.44\n",
       "gdpPercap_1997        3193.05\n",
       "gdpPercap_2002        4604.21\n",
       "gdpPercap_2007        5937.03\n",
       "lifeExp_1952            55.23\n",
       "lifeExp_1957            59.28\n",
       "lifeExp_1962            64.82\n",
       "lifeExp_1967            66.22\n",
       "lifeExp_1972            67.69\n",
       "lifeExp_1977            68.93\n",
       "lifeExp_1982            70.42\n",
       "lifeExp_1987               72\n",
       "lifeExp_1992           71.581\n",
       "lifeExp_1997            72.95\n",
       "lifeExp_2002           75.651\n",
       "lifeExp_2007           76.423\n",
       "pop_1952           1.2827e+06\n",
       "pop_1957          1.47650e+06\n",
       "pop_1962          1.72814e+06\n",
       "pop_1967          1.98406e+06\n",
       "pop_1972          2.26355e+06\n",
       "pop_1977          2.50905e+06\n",
       "pop_1982           2.7801e+06\n",
       "pop_1987          3.07532e+06\n",
       "pop_1992           3.3265e+06\n",
       "pop_1997          3.42804e+06\n",
       "pop_2002              3508512\n",
       "pop_2007              3600523\n",
       "Name: Albania, dtype: object"
      ]
     },
     "execution_count": 40,
     "metadata": {},
     "output_type": "execute_result"
    }
   ],
   "source": [
    "new_df.ix[\"Albania\", :]"
   ]
  },
  {
   "cell_type": "code",
   "execution_count": 41,
   "metadata": {
    "collapsed": false
   },
   "outputs": [
    {
     "data": {
      "text/plain": [
       "'Germany'"
      ]
     },
     "execution_count": 41,
     "metadata": {},
     "output_type": "execute_result"
    }
   ],
   "source": [
    "new_df['pop_2002'].argmax()"
   ]
  },
  {
   "cell_type": "code",
   "execution_count": 44,
   "metadata": {
    "collapsed": false
   },
   "outputs": [
    {
     "data": {
      "text/plain": [
       "continent          Europe\n",
       "gdpPercap_1952    7144.11\n",
       "gdpPercap_1957    10187.8\n",
       "gdpPercap_1962    12902.5\n",
       "gdpPercap_1967    14745.6\n",
       "Name: Germany, dtype: object"
      ]
     },
     "execution_count": 44,
     "metadata": {},
     "output_type": "execute_result"
    }
   ],
   "source": [
    "new_df.ix[new_df['pop_2002'].argmax()].head()"
   ]
  },
  {
   "cell_type": "code",
   "execution_count": 56,
   "metadata": {
    "collapsed": false
   },
   "outputs": [
    {
     "data": {
      "text/html": [
       "<div>\n",
       "<table border=\"1\" class=\"dataframe\">\n",
       "  <thead>\n",
       "    <tr style=\"text-align: right;\">\n",
       "      <th></th>\n",
       "      <th>continent</th>\n",
       "      <th>gdpPercap_1952</th>\n",
       "      <th>gdpPercap_1957</th>\n",
       "      <th>gdpPercap_1962</th>\n",
       "      <th>gdpPercap_1967</th>\n",
       "      <th>gdpPercap_1972</th>\n",
       "      <th>gdpPercap_1977</th>\n",
       "      <th>gdpPercap_1982</th>\n",
       "      <th>gdpPercap_1987</th>\n",
       "      <th>gdpPercap_1992</th>\n",
       "      <th>...</th>\n",
       "      <th>pop_1962</th>\n",
       "      <th>pop_1967</th>\n",
       "      <th>pop_1972</th>\n",
       "      <th>pop_1977</th>\n",
       "      <th>pop_1982</th>\n",
       "      <th>pop_1987</th>\n",
       "      <th>pop_1992</th>\n",
       "      <th>pop_1997</th>\n",
       "      <th>pop_2002</th>\n",
       "      <th>pop_2007</th>\n",
       "    </tr>\n",
       "    <tr>\n",
       "      <th>country</th>\n",
       "      <th></th>\n",
       "      <th></th>\n",
       "      <th></th>\n",
       "      <th></th>\n",
       "      <th></th>\n",
       "      <th></th>\n",
       "      <th></th>\n",
       "      <th></th>\n",
       "      <th></th>\n",
       "      <th></th>\n",
       "      <th></th>\n",
       "      <th></th>\n",
       "      <th></th>\n",
       "      <th></th>\n",
       "      <th></th>\n",
       "      <th></th>\n",
       "      <th></th>\n",
       "      <th></th>\n",
       "      <th></th>\n",
       "      <th></th>\n",
       "      <th></th>\n",
       "    </tr>\n",
       "  </thead>\n",
       "  <tbody>\n",
       "    <tr>\n",
       "      <th>Italy</th>\n",
       "      <td>Europe</td>\n",
       "      <td>4931.404155</td>\n",
       "      <td>6248.656232</td>\n",
       "      <td>8243.582340</td>\n",
       "      <td>10022.401310</td>\n",
       "      <td>12269.27378</td>\n",
       "      <td>14255.984750</td>\n",
       "      <td>16537.483500</td>\n",
       "      <td>19207.234820</td>\n",
       "      <td>22013.644860</td>\n",
       "      <td>...</td>\n",
       "      <td>50843200.0</td>\n",
       "      <td>52667100.0</td>\n",
       "      <td>54365564.0</td>\n",
       "      <td>56059245.0</td>\n",
       "      <td>56535636.0</td>\n",
       "      <td>56729703.0</td>\n",
       "      <td>56840847.0</td>\n",
       "      <td>57479469.0</td>\n",
       "      <td>57926999</td>\n",
       "      <td>58147733</td>\n",
       "    </tr>\n",
       "    <tr>\n",
       "      <th>United Kingdom</th>\n",
       "      <td>Europe</td>\n",
       "      <td>9979.508487</td>\n",
       "      <td>11283.177950</td>\n",
       "      <td>12477.177070</td>\n",
       "      <td>14142.850890</td>\n",
       "      <td>15895.11641</td>\n",
       "      <td>17428.748460</td>\n",
       "      <td>18232.424520</td>\n",
       "      <td>21664.787670</td>\n",
       "      <td>22705.092540</td>\n",
       "      <td>...</td>\n",
       "      <td>53292000.0</td>\n",
       "      <td>54959000.0</td>\n",
       "      <td>56079000.0</td>\n",
       "      <td>56179000.0</td>\n",
       "      <td>56339704.0</td>\n",
       "      <td>56981620.0</td>\n",
       "      <td>57866349.0</td>\n",
       "      <td>58808266.0</td>\n",
       "      <td>59912431</td>\n",
       "      <td>60776238</td>\n",
       "    </tr>\n",
       "    <tr>\n",
       "      <th>France</th>\n",
       "      <td>Europe</td>\n",
       "      <td>7029.809327</td>\n",
       "      <td>8662.834898</td>\n",
       "      <td>10560.485530</td>\n",
       "      <td>12999.917660</td>\n",
       "      <td>16107.19171</td>\n",
       "      <td>18292.635140</td>\n",
       "      <td>20293.897460</td>\n",
       "      <td>22066.442140</td>\n",
       "      <td>24703.796150</td>\n",
       "      <td>...</td>\n",
       "      <td>47124000.0</td>\n",
       "      <td>49569000.0</td>\n",
       "      <td>51732000.0</td>\n",
       "      <td>53165019.0</td>\n",
       "      <td>54433565.0</td>\n",
       "      <td>55630100.0</td>\n",
       "      <td>57374179.0</td>\n",
       "      <td>58623428.0</td>\n",
       "      <td>59925035</td>\n",
       "      <td>61083916</td>\n",
       "    </tr>\n",
       "    <tr>\n",
       "      <th>Turkey</th>\n",
       "      <td>Europe</td>\n",
       "      <td>1969.100980</td>\n",
       "      <td>2218.754257</td>\n",
       "      <td>2322.869908</td>\n",
       "      <td>2826.356387</td>\n",
       "      <td>3450.69638</td>\n",
       "      <td>4269.122326</td>\n",
       "      <td>4241.356344</td>\n",
       "      <td>5089.043686</td>\n",
       "      <td>5678.348271</td>\n",
       "      <td>...</td>\n",
       "      <td>29788695.0</td>\n",
       "      <td>33411317.0</td>\n",
       "      <td>37492953.0</td>\n",
       "      <td>42404033.0</td>\n",
       "      <td>47328791.0</td>\n",
       "      <td>52881328.0</td>\n",
       "      <td>58179144.0</td>\n",
       "      <td>63047647.0</td>\n",
       "      <td>67308928</td>\n",
       "      <td>71158647</td>\n",
       "    </tr>\n",
       "    <tr>\n",
       "      <th>Germany</th>\n",
       "      <td>Europe</td>\n",
       "      <td>7144.114393</td>\n",
       "      <td>10187.826650</td>\n",
       "      <td>12902.462910</td>\n",
       "      <td>14745.625610</td>\n",
       "      <td>18016.18027</td>\n",
       "      <td>20512.921230</td>\n",
       "      <td>22031.532740</td>\n",
       "      <td>24639.185660</td>\n",
       "      <td>26505.303170</td>\n",
       "      <td>...</td>\n",
       "      <td>73739117.0</td>\n",
       "      <td>76368453.0</td>\n",
       "      <td>78717088.0</td>\n",
       "      <td>78160773.0</td>\n",
       "      <td>78335266.0</td>\n",
       "      <td>77718298.0</td>\n",
       "      <td>80597764.0</td>\n",
       "      <td>82011073.0</td>\n",
       "      <td>82350671</td>\n",
       "      <td>82400996</td>\n",
       "    </tr>\n",
       "  </tbody>\n",
       "</table>\n",
       "<p>5 rows × 37 columns</p>\n",
       "</div>"
      ],
      "text/plain": [
       "               continent  gdpPercap_1952  gdpPercap_1957  gdpPercap_1962  \\\n",
       "country                                                                    \n",
       "Italy             Europe     4931.404155     6248.656232     8243.582340   \n",
       "United Kingdom    Europe     9979.508487    11283.177950    12477.177070   \n",
       "France            Europe     7029.809327     8662.834898    10560.485530   \n",
       "Turkey            Europe     1969.100980     2218.754257     2322.869908   \n",
       "Germany           Europe     7144.114393    10187.826650    12902.462910   \n",
       "\n",
       "                gdpPercap_1967  gdpPercap_1972  gdpPercap_1977  \\\n",
       "country                                                          \n",
       "Italy             10022.401310     12269.27378    14255.984750   \n",
       "United Kingdom    14142.850890     15895.11641    17428.748460   \n",
       "France            12999.917660     16107.19171    18292.635140   \n",
       "Turkey             2826.356387      3450.69638     4269.122326   \n",
       "Germany           14745.625610     18016.18027    20512.921230   \n",
       "\n",
       "                gdpPercap_1982  gdpPercap_1987  gdpPercap_1992    ...     \\\n",
       "country                                                           ...      \n",
       "Italy             16537.483500    19207.234820    22013.644860    ...      \n",
       "United Kingdom    18232.424520    21664.787670    22705.092540    ...      \n",
       "France            20293.897460    22066.442140    24703.796150    ...      \n",
       "Turkey             4241.356344     5089.043686     5678.348271    ...      \n",
       "Germany           22031.532740    24639.185660    26505.303170    ...      \n",
       "\n",
       "                  pop_1962    pop_1967    pop_1972    pop_1977    pop_1982  \\\n",
       "country                                                                      \n",
       "Italy           50843200.0  52667100.0  54365564.0  56059245.0  56535636.0   \n",
       "United Kingdom  53292000.0  54959000.0  56079000.0  56179000.0  56339704.0   \n",
       "France          47124000.0  49569000.0  51732000.0  53165019.0  54433565.0   \n",
       "Turkey          29788695.0  33411317.0  37492953.0  42404033.0  47328791.0   \n",
       "Germany         73739117.0  76368453.0  78717088.0  78160773.0  78335266.0   \n",
       "\n",
       "                  pop_1987    pop_1992    pop_1997  pop_2002  pop_2007  \n",
       "country                                                                 \n",
       "Italy           56729703.0  56840847.0  57479469.0  57926999  58147733  \n",
       "United Kingdom  56981620.0  57866349.0  58808266.0  59912431  60776238  \n",
       "France          55630100.0  57374179.0  58623428.0  59925035  61083916  \n",
       "Turkey          52881328.0  58179144.0  63047647.0  67308928  71158647  \n",
       "Germany         77718298.0  80597764.0  82011073.0  82350671  82400996  \n",
       "\n",
       "[5 rows x 37 columns]"
      ]
     },
     "execution_count": 56,
     "metadata": {},
     "output_type": "execute_result"
    }
   ],
   "source": [
    "sorted_df = new_df.ix[new_df['pop_2002'].argsort()].tail(5)\n",
    "sorted_df"
   ]
  },
  {
   "cell_type": "code",
   "execution_count": 61,
   "metadata": {
    "collapsed": false
   },
   "outputs": [
    {
     "data": {
      "text/plain": [
       "<matplotlib.axes._subplots.AxesSubplot at 0x11b550400>"
      ]
     },
     "execution_count": 61,
     "metadata": {},
     "output_type": "execute_result"
    },
    {
     "data": {
      "image/png": "[encoded data removed]",
      "text/plain": [
       "<matplotlib.figure.Figure at 0x11b72fe80>"
      ]
     },
     "metadata": {},
     "output_type": "display_data"
    }
   ],
   "source": [
    "sorted_df.plot(y=['pop_2002', 'pop_2007'], kind='bar')"
   ]
  },
  {
   "cell_type": "code",
   "execution_count": 96,
   "metadata": {
    "collapsed": false
   },
   "outputs": [
    {
     "data": {
      "text/plain": [
       "<matplotlib.axes._subplots.AxesSubplot at 0x11c63e320>"
      ]
     },
     "execution_count": 96,
     "metadata": {},
     "output_type": "execute_result"
    },
    {
     "data": {
      "image/png": "[encoded data removed]",
      "text/plain": [
       "<matplotlib.figure.Figure at 0x11c77ee80>"
      ]
     },
     "metadata": {},
     "output_type": "display_data"
    }
   ],
   "source": [
    "# Plot the GDP per capita for the top 5 Americas based on life expectancy\n",
    "df = pandas.read_csv('data/gapminder_all.csv')\n",
    "plotdf = df.set_index('country')\n",
    "plotdf = plotdf.ix[plotdf['continent']  == 'Americas']\n",
    "plotdf = plotdf.ix[plotdf[\"lifeExp_2007\"].argsort()]\n",
    "plotdf = plotdf.tail(5)\n",
    "plotdf[\"lifeExp_2002\"] += 10\n",
    "#print(plotdf.columns)\n",
    "plotdf.plot(y=[\"lifeExp_1967\", \"lifeExp_2002\"])\n",
    "plotdf.plot(x=['gdpPercap_1967', 'gdpPercap_2002'], y=[\"lifeExp_1967\", \"lifeExp_2002\"], kind='scatter')"
   ]
  },
  {
   "cell_type": "code",
   "execution_count": 89,
   "metadata": {
    "collapsed": false
   },
   "outputs": [
    {
     "name": "stdout",
     "output_type": "stream",
     "text": [
      "Help on method argsort in module pandas.core.series:\n",
      "\n",
      "argsort(axis=0, kind='quicksort', order=None) method of pandas.core.series.Series instance\n",
      "    Overrides ndarray.argsort. Argsorts the value, omitting NA/null values,\n",
      "    and places the result in the same locations as the non-NA values\n",
      "    \n",
      "    Parameters\n",
      "    ----------\n",
      "    axis : int (can only be zero)\n",
      "    kind : {'mergesort', 'quicksort', 'heapsort'}, default 'quicksort'\n",
      "        Choice of sorting algorithm. See np.sort for more\n",
      "        information. 'mergesort' is the only stable algorithm\n",
      "    order : ignored\n",
      "    \n",
      "    Returns\n",
      "    -------\n",
      "    argsorted : Series, with -1 indicated where nan values are present\n",
      "    \n",
      "    See also\n",
      "    --------\n",
      "    numpy.ndarray.argsort\n",
      "\n"
     ]
    }
   ],
   "source": [
    "help(plotdf[\"lifeExp_2007\"].argsort)"
   ]
  },
  {
   "cell_type": "code",
   "execution_count": null,
   "metadata": {
    "collapsed": true
   },
   "outputs": [],
   "source": []
  }
 ],
 "metadata": {
  "kernelspec": {
   "display_name": "Python [Root]",
   "language": "python",
   "name": "Python [Root]"
  },
  "language_info": {
   "codemirror_mode": {
    "name": "ipython",
    "version": 3
   },
   "file_extension": ".py",
   "mimetype": "text/x-python",
   "name": "python",
   "nbconvert_exporter": "python",
   "pygments_lexer": "ipython3",
   "version": "3.5.2"
  }
 },
 "nbformat": 4,
 "nbformat_minor": 0
}
